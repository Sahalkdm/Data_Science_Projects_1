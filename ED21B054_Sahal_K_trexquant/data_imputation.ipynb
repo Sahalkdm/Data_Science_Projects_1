{
 "cells": [
  {
   "cell_type": "code",
   "execution_count": 2,
   "metadata": {},
   "outputs": [],
   "source": [
    "import pandas as pd\n",
    "import numpy as np\n",
    "import matplotlib.pyplot as plt\n",
    "\n",
    "import seaborn as sns\n",
    "from sklearn.linear_model import LinearRegression\n",
    "from sklearn.metrics import mean_squared_error\n",
    "\n",
    "pd.set_option('display.max_rows', 100)\n",
    "pd.set_option('display.max_columns', 100)\n",
    "pd.set_option('display.width', 2000)\n",
    "pd.set_option('display.float_format', '{:20.2f}'.format)\n",
    "pd.set_option('display.max_colwidth', None)"
   ]
  },
  {
   "cell_type": "code",
   "execution_count": 3,
   "metadata": {},
   "outputs": [
    {
     "name": "stdout",
     "output_type": "stream",
     "text": [
      "Shape of the training dataset: (105442, 89)\n",
      "\n",
      "Columns in the training dataset:\n",
      " ['row_id', 'f1', 'f2', 'f3', 'f4', 'f5', 'f6', 'f7', 'f8', 'f9', 'f10', 'f11', 'f12', 'f13', 'f14', 'f15', 'f16', 'f17', 'f18', 'f19', 'f20', 'f21', 'f22', 'f23', 'f24', 'f25', 'f26', 'f27', 'f28', 'f29', 'f30', 'f31', 'f32', 'f33', 'f34', 'f35', 'f36', 'f37', 'f38', 'f39', 'f40', 'f41', 'f42', 'f43', 'f44', 'f45', 'f46', 'f47', 'f48', 'f49', 'f50', 'f51', 'f52', 'f53', 'f54', 'f55', 'f56', 'f57', 'f58', 'f59', 'f60', 'f61', 'f62', 'f63', 'f64', 'f65', 'f66', 'f67', 'f68', 'f69', 'f70', 'f71', 'f72', 'f73', 'f74', 'f75', 'f76', 'f77', 'f78', 'f79', 'f80', 'f81', 'f82', 'f83', 'f84', 'f85', 'f86', 'f87', 'target']\n",
      "\n",
      "Number of feature columns: 87\n",
      "\n",
      "Feature columns:\n",
      " ['f1', 'f2', 'f3', 'f4', 'f5', 'f6', 'f7', 'f8', 'f9', 'f10', 'f11', 'f12', 'f13', 'f14', 'f15', 'f16', 'f17', 'f18', 'f19', 'f20', 'f21', 'f22', 'f23', 'f24', 'f25', 'f26', 'f27', 'f28', 'f29', 'f30', 'f31', 'f32', 'f33', 'f34', 'f35', 'f36', 'f37', 'f38', 'f39', 'f40', 'f41', 'f42', 'f43', 'f44', 'f45', 'f46', 'f47', 'f48', 'f49', 'f50', 'f51', 'f52', 'f53', 'f54', 'f55', 'f56', 'f57', 'f58', 'f59', 'f60', 'f61', 'f62', 'f63', 'f64', 'f65', 'f66', 'f67', 'f68', 'f69', 'f70', 'f71', 'f72', 'f73', 'f74', 'f75', 'f76', 'f77', 'f78', 'f79', 'f80', 'f81', 'f82', 'f83', 'f84', 'f85', 'f86', 'f87']\n"
     ]
    }
   ],
   "source": [
    "df_train = pd.read_csv(\"TQ_Train_Kaggle.csv\")\n",
    "\n",
    "# Display the shape of the dataframe\n",
    "print(\"Shape of the training dataset:\", df_train.shape)\n",
    "\n",
    "# Display the column names of the dataframe\n",
    "print(\"\\nColumns in the training dataset:\\n\", list(df_train.columns))\n",
    "\n",
    "# Extract feature columns: columns that are prefixed with 'f'\n",
    "feature_prefix = 'f'\n",
    "feats = [col for col in df_train.columns if col.startswith(feature_prefix)]\n",
    "\n",
    "# Display the number of feature columns and their names\n",
    "print(\"\\nNumber of feature columns:\", len(feats))\n",
    "print(\"\\nFeature columns:\\n\", feats)"
   ]
  },
  {
   "cell_type": "code",
   "execution_count": null,
   "metadata": {},
   "outputs": [],
   "source": [
    "df_test = pd.read_csv(\"TQ_Train_Kaggle.csv\")\n",
    "\n",
    "# Display the shape of the dataframe\n",
    "print(\"Shape of the training dataset:\", df_test.shape)\n",
    "\n",
    "# Display the column names of the dataframe\n",
    "print(\"\\nColumns in the training dataset:\\n\", list(df_test.columns))\n",
    "\n",
    "# Extract feature columns: columns that are prefixed with 'f'\n",
    "feature_prefix = 'f'\n",
    "feats = [col for col in df_test.columns if col.startswith(feature_prefix)]\n",
    "\n",
    "# Display the number of feature columns and their names\n",
    "print(\"\\nNumber of feature columns:\", len(feats))\n",
    "print(\"\\nFeature columns:\\n\", feats)"
   ]
  },
  {
   "cell_type": "markdown",
   "metadata": {},
   "source": [
    "Imputing Missing Values"
   ]
  },
  {
   "cell_type": "code",
   "execution_count": null,
   "metadata": {},
   "outputs": [],
   "source": [
    "from sklearn.ensemble import BaggingRegressor\n",
    "from sklearn.tree import DecisionTreeRegressor\n",
    "\n",
    "\n",
    "def tree_imputation(df):\n",
    "    missing_cols = [col for col in df.columns if df[col].isnull().sum() > 0]\n",
    "    non_missing_cols = [col for col in df.columns if df[col].isnull().sum() == 0]\n",
    "    # num_cols = [col for col in missing_cols if df[col].dtype != 'object']\n",
    "\n",
    "    # df = df[num_cols]\n",
    "    for col in missing_cols:\n",
    "\n",
    "        # Defining a new bagging model for each attribute  \n",
    "        model = BaggingRegressor(DecisionTreeRegressor(), n_estimators = 40, max_samples = 1.0, max_features = 1.0, bootstrap = False, n_jobs = -1)\n",
    "\n",
    "        col_missing = df[df[col].isnull()]\n",
    "        temp = df.drop(df[df[col].isnull()].index, axis = 0)\n",
    "\n",
    "        X = temp.loc[:, non_missing_cols]\n",
    "        y = temp[col]\n",
    "\n",
    "        model.fit(X, y)\n",
    "\n",
    "        y_pred = model.predict(col_missing[non_missing_cols])\n",
    "\n",
    "        df.loc[col_missing.index, col] = y_pred\n",
    "        print(df[col])\n",
    "    return df"
   ]
  },
  {
   "cell_type": "code",
   "execution_count": null,
   "metadata": {},
   "outputs": [],
   "source": [
    "df_new = tree_imputation(df_train[feats])\n",
    "df_new.info()"
   ]
  },
  {
   "cell_type": "code",
   "execution_count": null,
   "metadata": {},
   "outputs": [],
   "source": [
    "df_new.to_csv('df_imp_dstree_train.csv', index=False)"
   ]
  },
  {
   "cell_type": "code",
   "execution_count": null,
   "metadata": {},
   "outputs": [],
   "source": [
    "df_new_test = tree_imputation(df_test[feats])\n",
    "df_new_test.info()"
   ]
  },
  {
   "cell_type": "code",
   "execution_count": null,
   "metadata": {},
   "outputs": [],
   "source": [
    "df_new_test.to_csv('df_imp_dstree_test.csv', index=False)"
   ]
  }
 ],
 "metadata": {
  "kernelspec": {
   "display_name": "Python 3",
   "language": "python",
   "name": "python3"
  },
  "language_info": {
   "codemirror_mode": {
    "name": "ipython",
    "version": 3
   },
   "file_extension": ".py",
   "mimetype": "text/x-python",
   "name": "python",
   "nbconvert_exporter": "python",
   "pygments_lexer": "ipython3",
   "version": "3.11.3"
  }
 },
 "nbformat": 4,
 "nbformat_minor": 2
}
